{
 "cells": [
  {
   "cell_type": "markdown",
   "metadata": {},
   "source": [
    "# Parking Garage Project\n",
    "\n",
    "Your assignment for today is to create a parking garage class to get more familiar with Object Oriented Programming(OOP). \n",
    "\n",
    "Your parking gargage class should have the following methods:\n",
    "- takeTicket\n",
    "   - This should decrease the amount of tickets available by 1\n",
    "   - This should decrease the amount of parkingSpaces available by 1\n",
    "- payForParking\n",
    "   - Display an input that waits for an amount from the user and store it in a variable\n",
    "   - If the payment variable is not empty then ->  display a message to the user that their ticket has been paid and they have 15mins to leave\n",
    "   - This should update the \"currentTicket\" dictionary key \"paid\" to True\n",
    "-leaveGarage\n",
    "   - If the ticket has been paid, display a message of \"Thank You, have a nice day\"\n",
    "   - If the ticket has not been paid, display an input prompt for payment\n",
    "      - Once paid, display message \"Thank you, have a nice day!\"\n",
    "   - Update parkingSpaces list to increase by 1\n",
    "   - Update tickets list to increase by 1\n",
    "\n",
    "You will need a few attributes as well:\n",
    "- tickets -> list\n",
    "- parkingSpaces -> list\n",
    "- currentTicket -> dictionary"
   ]
  },
  {
   "cell_type": "code",
   "execution_count": null,
   "metadata": {},
   "outputs": [
    {
     "name": "stdout",
     "output_type": "stream",
     "text": [
      "Tickets available, respond Yes or No if you're parking yes\n",
      "How many tickets 1\n"
     ]
    }
   ],
   "source": [
    "from IPython.display import clear_output\n",
    "\n",
    "\n",
    "class tickets_ava():\n",
    "    \n",
    "    \n",
    "    tickets = []\n",
    "    ticketCount = 10\n",
    "    leftTicketCount = 0\n",
    "\n",
    "\n",
    "def __init__(self, tickets):\n",
    "        \n",
    "        self.tickets = tickets\n",
    "        self.ticketCount = len(tickets)\n",
    "        self.leftticketCount = len(tickets)\n",
    "\n",
    "def getticketCount(self):\n",
    "        return self.ticketCount\n",
    "    \n",
    "                                            #def add_to_list(self,new_food):\n",
    "                                         #  self.items.append(new_food)\n",
    "                                        #  print(\"Added {}. {} items.\".format(new_food, len(self.items)))\n",
    "def getTicket(self,getTicket):\n",
    "        self.tickets.append(getTicket)\n",
    "        print(\"Added {}. tickets.\".format(getTicket, len(self.tickets)))\n",
    "                                                \n",
    "        #return self.ticket\n",
    "\n",
    "def getLeftTicketCount(self):\n",
    "        return self.leftTicketCount\n",
    "\n",
    "def pickTicketForParking(self):\n",
    "        return TicketForParking\n",
    "        \n",
    "        self.leftTicketCount -= 1\n",
    "        return self.tickets.pop(0)\n",
    "\n",
    "def returnTheTicket(self, ticket):\n",
    "        \n",
    "        self.leftticketCount += 1\n",
    "        self.tickets.insert(ticket.getticketId() - 1, ticket)\n",
    "        \n",
    "def parkedcars():\n",
    "\n",
    "\n",
    "    while True:\n",
    "        response = input(\"Tickets available, respond Yes or No if you're parking \")\n",
    "#         hi_response = input(\"How many tickets \")\n",
    "        if response.lower() == \"done\":\n",
    "            break\n",
    "        elif response.lower() == \"no\":\n",
    "            print(\"Thank you for visiting us\")\n",
    "            break\n",
    "        elif response.lower() == \"yes\":   \n",
    "            hi_response = input(\"How many tickets \")\n",
    "            continue\n",
    "        elif response.lower() == \"1\":\n",
    "            parkedcars.returnTheTicket()\n",
    "        print(\"theres {} parking left\") #add.format\n",
    "\n",
    "parkedcars()\n",
    "\n",
    "\n",
    "\n",
    "    \n"
   ]
  }
 ],
 "metadata": {
  "kernelspec": {
   "display_name": "Python 3",
   "language": "python",
   "name": "python3"
  },
  "language_info": {
   "codemirror_mode": {
    "name": "ipython",
    "version": 3
   },
   "file_extension": ".py",
   "mimetype": "text/x-python",
   "name": "python",
   "nbconvert_exporter": "python",
   "pygments_lexer": "ipython3",
   "version": "3.7.4"
  }
 },
 "nbformat": 4,
 "nbformat_minor": 2
}
